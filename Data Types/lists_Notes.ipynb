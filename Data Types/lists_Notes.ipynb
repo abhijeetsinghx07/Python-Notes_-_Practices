{
 "cells": [
  {
   "cell_type": "markdown",
   "id": "8d861e30",
   "metadata": {},
   "source": [
    "### Content\n",
    "1. Lists\n",
    "2. Access List Items\n",
    "3. Change List Items\n",
    "4. Add List Items\n",
    "5. Remove List Items\n",
    "6. Loop Lists\n",
    "7. List Comprehension\n",
    "8. Sort Lists\n",
    "9. Copy Lists\n",
    "10. Join Lists\n",
    "11. List Methods\n",
    "12. List Practice"
   ]
  },
  {
   "cell_type": "markdown",
   "id": "17834dbd",
   "metadata": {},
   "source": [
    "\n",
    "# <center> 1. Lists </center>\n",
    "--- \n",
    "\n",
    "\n"
   ]
  },
  {
   "cell_type": "markdown",
   "id": "302c7e8e",
   "metadata": {},
   "source": [
    "mylist = [\"apple\", \"banana\", \"cherry\"]"
   ]
  },
  {
   "cell_type": "markdown",
   "id": "25ef0677",
   "metadata": {},
   "source": [
    "## List\n",
    "Lists are used to store multiple items in a single variable.\n",
    "\n",
    "Lists are one of 4 built-in data types in Python used to store collections of data, the other 3 are Tuple, Set, and Dictionary, all with different qualities and usage.\n",
    "\n",
    "Lists are created using square brackets:"
   ]
  },
  {
   "cell_type": "code",
   "execution_count": 2,
   "id": "1324ceb9",
   "metadata": {},
   "outputs": [
    {
     "name": "stdout",
     "output_type": "stream",
     "text": [
      "['apple', 'banana', 'cherry']\n"
     ]
    }
   ],
   "source": [
    "thislist = [\"apple\", \"banana\", \"cherry\"]\n",
    "print(thislist)"
   ]
  },
  {
   "cell_type": "markdown",
   "id": "a2e66ee6",
   "metadata": {},
   "source": [
    "## List Items\n",
    "List items are ordered, changeable, and allow duplicate values.\n",
    "\n",
    "List items are indexed, the first item has index [0], the second item has index [1] etc."
   ]
  },
  {
   "cell_type": "markdown",
   "id": "8a8c590a",
   "metadata": {},
   "source": [
    "## Ordered\n",
    "When we say that lists are ordered, it means that the items have a defined order, and that order will not change.\n",
    "\n",
    "If you add new items to a list, the new items will be placed at the end of the list."
   ]
  },
  {
   "cell_type": "markdown",
   "id": "41df7eff",
   "metadata": {},
   "source": [
    "## Changeable\n",
    "The list is changeable, meaning that we can change, add, and remove items in a list after it has been created."
   ]
  },
  {
   "cell_type": "markdown",
   "id": "c1a2a382",
   "metadata": {},
   "source": [
    "## Allow Duplicates\n",
    "Since lists are indexed, lists can have items with the same value:"
   ]
  },
  {
   "cell_type": "code",
   "execution_count": 3,
   "id": "b5f69152",
   "metadata": {},
   "outputs": [
    {
     "name": "stdout",
     "output_type": "stream",
     "text": [
      "['apple', 'banana', 'cherry', 'apple', 'cherry']\n"
     ]
    }
   ],
   "source": [
    "thislist = [\"apple\", \"banana\", \"cherry\", \"apple\", \"cherry\"]\n",
    "print(thislist)"
   ]
  },
  {
   "cell_type": "markdown",
   "id": "6bfa7ef9",
   "metadata": {},
   "source": [
    "## List Length\n",
    "To determine how many items a list has, use the len() function:"
   ]
  },
  {
   "cell_type": "code",
   "execution_count": 4,
   "id": "cf8180ca",
   "metadata": {},
   "outputs": [
    {
     "name": "stdout",
     "output_type": "stream",
     "text": [
      "3\n"
     ]
    }
   ],
   "source": [
    "thislist = [\"apple\", \"banana\", \"cherry\"]\n",
    "print(len(thislist))"
   ]
  },
  {
   "cell_type": "markdown",
   "id": "791ebbc8",
   "metadata": {},
   "source": [
    "## List Items - Data Types\n",
    "List items can be of any data type:"
   ]
  },
  {
   "cell_type": "code",
   "execution_count": 7,
   "id": "d8613485",
   "metadata": {},
   "outputs": [
    {
     "name": "stdout",
     "output_type": "stream",
     "text": [
      "['apple', 'banana', 'cherry']\n",
      "[1, 5, 7, 9, 3]\n",
      "[True, False, False]\n"
     ]
    }
   ],
   "source": [
    "list1 = [\"apple\", \"banana\", \"cherry\"]\n",
    "print(list1)\n",
    "\n",
    "list2 = [1, 5, 7, 9, 3]\n",
    "print(list2)\n",
    "\n",
    "list3 = [True, False, False]\n",
    "print(list3)"
   ]
  },
  {
   "cell_type": "markdown",
   "id": "281d9ac6",
   "metadata": {},
   "source": [
    "**A list can contain different data types:**\n",
    "\n"
   ]
  },
  {
   "cell_type": "code",
   "execution_count": 9,
   "id": "2acee82b",
   "metadata": {},
   "outputs": [],
   "source": [
    "list1 = [\"abc\", 34, True, 40, \"male\"]"
   ]
  },
  {
   "cell_type": "markdown",
   "id": "1efdfd1c",
   "metadata": {},
   "source": [
    "## type()\n",
    "From Python's perspective, lists are defined as objects with the data type 'list':\n",
    "- <class 'list'>"
   ]
  },
  {
   "cell_type": "code",
   "execution_count": 10,
   "id": "371a0a59",
   "metadata": {},
   "outputs": [
    {
     "name": "stdout",
     "output_type": "stream",
     "text": [
      "<class 'list'>\n"
     ]
    }
   ],
   "source": [
    "mylist = [\"apple\", \"banana\", \"cherry\"]\n",
    "print(type(mylist))"
   ]
  },
  {
   "cell_type": "markdown",
   "id": "b25cb37c",
   "metadata": {},
   "source": [
    "## The list() Constructor\n",
    "It is also possible to use the list() constructor when creating a new list"
   ]
  },
  {
   "cell_type": "code",
   "execution_count": 11,
   "id": "cb2388a1",
   "metadata": {},
   "outputs": [
    {
     "name": "stdout",
     "output_type": "stream",
     "text": [
      "['apple', 'banana', 'cherry']\n"
     ]
    }
   ],
   "source": [
    "thislist = list((\"apple\", \"banana\", \"cherry\")) # note the double round-brackets\n",
    "print(thislist)"
   ]
  },
  {
   "cell_type": "markdown",
   "id": "15b05762",
   "metadata": {},
   "source": [
    "## Python Collections (Arrays)\n",
    "There are four collection data types in the Python programming language:\n",
    "\n",
    "- List is a collection which is ordered and changeable. Allows duplicate members.\n",
    "- Tuple is a collection which is ordered and unchangeable. Allows duplicate members.\n",
    "- Set is a collection which is unordered, unchangeable*, and unindexed. No duplicate members.\n",
    "- Dictionary is a collection which is ordered** and changeable. No duplicate members."
   ]
  },
  {
   "cell_type": "markdown",
   "id": "e62c3d2c",
   "metadata": {},
   "source": [
    "- **Set items are unchangeable, but you can remove and/or add items whenever you like.**\n",
    "- **As of Python version 3.7, dictionaries are ordered. In Python 3.6 and earlier, dictionaries are unordered.**"
   ]
  },
  {
   "cell_type": "markdown",
   "id": "336904cd",
   "metadata": {},
   "source": [
    "When choosing a collection type, it is useful to understand the properties of that type. Choosing the right type for a particular data set could mean retention of meaning, and, it could mean an increase in efficiency or security."
   ]
  },
  {
   "cell_type": "markdown",
   "id": "5630d211",
   "metadata": {},
   "source": [
    "# <center> 2. Access List Items </center>\n",
    "--- \n",
    "\n"
   ]
  },
  {
   "cell_type": "markdown",
   "id": "f8a74eed",
   "metadata": {},
   "source": [
    "## Access Items\n",
    "List items are indexed and you can access them by referring to the index number:\n"
   ]
  },
  {
   "cell_type": "code",
   "execution_count": 12,
   "id": "0cd99416",
   "metadata": {},
   "outputs": [
    {
     "name": "stdout",
     "output_type": "stream",
     "text": [
      "banana\n"
     ]
    }
   ],
   "source": [
    "thislist = [\"apple\", \"banana\", \"cherry\"]\n",
    "print(thislist[1])"
   ]
  },
  {
   "cell_type": "markdown",
   "id": "63cc3239",
   "metadata": {},
   "source": [
    "## Negative Indexing\n",
    "Negative indexing means start from the end\n",
    "\n",
    "-1 refers to the last item, -2 refers to the second last item etc."
   ]
  },
  {
   "cell_type": "code",
   "execution_count": 13,
   "id": "f6d7c7fe",
   "metadata": {},
   "outputs": [
    {
     "name": "stdout",
     "output_type": "stream",
     "text": [
      "cherry\n"
     ]
    }
   ],
   "source": [
    "thislist = [\"apple\", \"banana\", \"cherry\"]\n",
    "print(thislist[-1])"
   ]
  },
  {
   "cell_type": "markdown",
   "id": "07ce3073",
   "metadata": {},
   "source": [
    "## Range of Indexes\n",
    "You can specify a range of indexes by specifying where to start and where to end the range.\n",
    "\n",
    "When specifying a range, the return value will be a new list with the specified items."
   ]
  },
  {
   "cell_type": "code",
   "execution_count": 14,
   "id": "f7598443",
   "metadata": {},
   "outputs": [
    {
     "name": "stdout",
     "output_type": "stream",
     "text": [
      "['cherry', 'orange', 'kiwi']\n"
     ]
    }
   ],
   "source": [
    "thislist = [\"apple\", \"banana\", \"cherry\", \"orange\", \"kiwi\", \"melon\", \"mango\"]\n",
    "print(thislist[2:5])"
   ]
  },
  {
   "cell_type": "markdown",
   "id": "647f606d",
   "metadata": {},
   "source": [
    "Note: The search will start at index 2 (included) and end at index 5 (not included)."
   ]
  },
  {
   "cell_type": "markdown",
   "id": "549d1ee5",
   "metadata": {},
   "source": [
    "By leaving out the start value, the range will start at the first item:"
   ]
  },
  {
   "cell_type": "code",
   "execution_count": 15,
   "id": "7d60c3ca",
   "metadata": {},
   "outputs": [
    {
     "name": "stdout",
     "output_type": "stream",
     "text": [
      "['apple', 'banana', 'cherry', 'orange']\n"
     ]
    }
   ],
   "source": [
    "thislist = [\"apple\", \"banana\", \"cherry\", \"orange\", \"kiwi\", \"melon\", \"mango\"]\n",
    "print(thislist[:4])"
   ]
  },
  {
   "cell_type": "markdown",
   "id": "fab47bcc",
   "metadata": {},
   "source": [
    "By leaving out the end value, the range will go on to the end of the list:\n",
    "\n"
   ]
  },
  {
   "cell_type": "code",
   "execution_count": 16,
   "id": "698c5658",
   "metadata": {},
   "outputs": [
    {
     "name": "stdout",
     "output_type": "stream",
     "text": [
      "['cherry', 'orange', 'kiwi', 'melon', 'mango']\n"
     ]
    }
   ],
   "source": [
    "thislist = [\"apple\", \"banana\", \"cherry\", \"orange\", \"kiwi\", \"melon\", \"mango\"]\n",
    "print(thislist[2:])"
   ]
  },
  {
   "cell_type": "markdown",
   "id": "478b009b",
   "metadata": {},
   "source": [
    "## Range of Negative Indexes\n",
    "Specify negative indexes if you want to start the search from the end of the list:"
   ]
  },
  {
   "cell_type": "code",
   "execution_count": 19,
   "id": "95684af0",
   "metadata": {},
   "outputs": [
    {
     "name": "stdout",
     "output_type": "stream",
     "text": [
      "['orange', 'kiwi', 'melon']\n"
     ]
    }
   ],
   "source": [
    "thislist = [\"apple\", \"banana\", \"cherry\", \"orange\", \"kiwi\", \"melon\", \"mango\"]\n",
    "print(thislist[-4:-1])"
   ]
  },
  {
   "cell_type": "markdown",
   "id": "e2e64cf9",
   "metadata": {},
   "source": [
    "## Check if Item Exists\n",
    "To determine if a specified item is present in a list use the in keyword:"
   ]
  },
  {
   "cell_type": "code",
   "execution_count": 20,
   "id": "1c7b75a0",
   "metadata": {},
   "outputs": [
    {
     "name": "stdout",
     "output_type": "stream",
     "text": [
      "Yes, 'apple' is in the fruits list\n"
     ]
    }
   ],
   "source": [
    "thislist = [\"apple\", \"banana\", \"cherry\"]\n",
    "if \"apple\" in thislist:\n",
    "  print(\"Yes, 'apple' is in the fruits list\")"
   ]
  },
  {
   "cell_type": "markdown",
   "id": "c9f3ed2d",
   "metadata": {},
   "source": [
    "# <center> 3. Change List Items </center>\n",
    "--- \n",
    "\n"
   ]
  },
  {
   "cell_type": "markdown",
   "id": "297b8c58",
   "metadata": {},
   "source": [
    "## Change Item Value\n",
    "To change the value of a specific item, refer to the index number:"
   ]
  },
  {
   "cell_type": "code",
   "execution_count": 21,
   "id": "e30c92a7",
   "metadata": {},
   "outputs": [
    {
     "name": "stdout",
     "output_type": "stream",
     "text": [
      "['apple', 'blackcurrant', 'cherry']\n"
     ]
    }
   ],
   "source": [
    "thislist = [\"apple\", \"banana\", \"cherry\"]\n",
    "thislist[1] = \"blackcurrant\"\n",
    "print(thislist)"
   ]
  },
  {
   "cell_type": "markdown",
   "id": "e569fd0a",
   "metadata": {},
   "source": [
    "## Change a Range of Item Values\n",
    "To change the value of items within a specific range, define a list with the new values, and refer to the range of index numbers where you want to insert the new values:"
   ]
  },
  {
   "cell_type": "code",
   "execution_count": 22,
   "id": "10f67eb4",
   "metadata": {},
   "outputs": [
    {
     "name": "stdout",
     "output_type": "stream",
     "text": [
      "['apple', 'blackcurrant', 'watermelon', 'orange', 'kiwi', 'mango']\n"
     ]
    }
   ],
   "source": [
    "thislist = [\"apple\", \"banana\", \"cherry\", \"orange\", \"kiwi\", \"mango\"]\n",
    "thislist[1:3] = [\"blackcurrant\", \"watermelon\"]\n",
    "print(thislist)"
   ]
  },
  {
   "cell_type": "markdown",
   "id": "989643fc",
   "metadata": {},
   "source": [
    "If you insert more items than you replace, the new items will be inserted where you specified, and the remaining items will move accordingly:\n",
    "\n",
    "**Note: The length of the list will change when the number of items inserted does not match the number of items replaced.**"
   ]
  },
  {
   "cell_type": "code",
   "execution_count": 23,
   "id": "d77c8160",
   "metadata": {},
   "outputs": [
    {
     "name": "stdout",
     "output_type": "stream",
     "text": [
      "['apple', 'blackcurrant', 'watermelon', 'cherry']\n"
     ]
    }
   ],
   "source": [
    "thislist = [\"apple\", \"banana\", \"cherry\"]\n",
    "thislist[1:2] = [\"blackcurrant\", \"watermelon\"]\n",
    "print(thislist)"
   ]
  },
  {
   "cell_type": "markdown",
   "id": "fb22d853",
   "metadata": {},
   "source": [
    "If you insert less items than you replace, the new items will be inserted where you specified, and the remaining items will move accordingly:"
   ]
  },
  {
   "cell_type": "code",
   "execution_count": 24,
   "id": "2d428954",
   "metadata": {},
   "outputs": [
    {
     "name": "stdout",
     "output_type": "stream",
     "text": [
      "['apple', 'watermelon']\n"
     ]
    }
   ],
   "source": [
    "thislist = [\"apple\", \"banana\", \"cherry\"]\n",
    "thislist[1:3] = [\"watermelon\"]\n",
    "print(thislist)"
   ]
  },
  {
   "cell_type": "markdown",
   "id": "b8e4c287",
   "metadata": {},
   "source": [
    "## Insert Items\n",
    "To insert a new list item, without replacing any of the existing values, we can use the insert() method.\n",
    "\n",
    "The insert() method inserts an item at the specified index:"
   ]
  },
  {
   "cell_type": "code",
   "execution_count": 25,
   "id": "60efa741",
   "metadata": {},
   "outputs": [
    {
     "name": "stdout",
     "output_type": "stream",
     "text": [
      "['apple', 'banana', 'watermelon', 'cherry']\n"
     ]
    }
   ],
   "source": [
    "thislist = [\"apple\", \"banana\", \"cherry\"]\n",
    "thislist.insert(2, \"watermelon\")\n",
    "print(thislist)"
   ]
  },
  {
   "cell_type": "markdown",
   "id": "32f99595",
   "metadata": {},
   "source": [
    "# <center> 4. Add List Items </center>\n",
    "--- \n",
    "\n"
   ]
  },
  {
   "cell_type": "markdown",
   "id": "ecd78de0",
   "metadata": {},
   "source": [
    "## Append Items\n",
    "To add an item to the end of the list, use the append() method:"
   ]
  },
  {
   "cell_type": "code",
   "execution_count": 26,
   "id": "7cc55673",
   "metadata": {},
   "outputs": [
    {
     "name": "stdout",
     "output_type": "stream",
     "text": [
      "['apple', 'banana', 'cherry', 'orange']\n"
     ]
    }
   ],
   "source": [
    "thislist = [\"apple\", \"banana\", \"cherry\"]\n",
    "thislist.append(\"orange\")\n",
    "print(thislist)"
   ]
  },
  {
   "cell_type": "markdown",
   "id": "4f9b7c2a",
   "metadata": {},
   "source": [
    "## Insert Items\n",
    "To insert a list item at a specified index, use the insert() method.\n",
    "\n",
    "The insert() method inserts an item at the specified index:"
   ]
  },
  {
   "cell_type": "code",
   "execution_count": 27,
   "id": "89ae7411",
   "metadata": {},
   "outputs": [
    {
     "name": "stdout",
     "output_type": "stream",
     "text": [
      "['apple', 'orange', 'banana', 'cherry']\n"
     ]
    }
   ],
   "source": [
    "thislist = [\"apple\", \"banana\", \"cherry\"]\n",
    "thislist.insert(1, \"orange\")\n",
    "print(thislist)"
   ]
  },
  {
   "cell_type": "markdown",
   "id": "4502ef23",
   "metadata": {},
   "source": [
    "## Extend List\n",
    "To append elements from another list to the current list, use the extend() method."
   ]
  },
  {
   "cell_type": "code",
   "execution_count": 33,
   "id": "d62d324c",
   "metadata": {},
   "outputs": [
    {
     "name": "stdout",
     "output_type": "stream",
     "text": [
      "['apple', 'banana', 'cherry', 'mango', 'pineapple', 'papaya']\n"
     ]
    }
   ],
   "source": [
    "thislist = [\"apple\", \"banana\", \"cherry\"]\n",
    "tropical = [\"mango\", \"pineapple\", \"papaya\"]\n",
    "thislist.extend(tropical) #The elements will be added to the end of the list.\n",
    "print(thislist) "
   ]
  },
  {
   "cell_type": "markdown",
   "id": "bdbc9111",
   "metadata": {},
   "source": [
    "## Add Any Iterable\n",
    "The extend() method does not have to append lists, you can add any iterable object (tuples, sets, dictionaries etc.)."
   ]
  },
  {
   "cell_type": "code",
   "execution_count": 34,
   "id": "0b39fad7",
   "metadata": {},
   "outputs": [
    {
     "name": "stdout",
     "output_type": "stream",
     "text": [
      "['apple', 'banana', 'cherry', 'kiwi', 'orange']\n"
     ]
    }
   ],
   "source": [
    "thislist = [\"apple\", \"banana\", \"cherry\"]\n",
    "thistuple = (\"kiwi\", \"orange\")\n",
    "thislist.extend(thistuple)\n",
    "print(thislist)"
   ]
  },
  {
   "cell_type": "markdown",
   "id": "e1522371",
   "metadata": {},
   "source": [
    "\n",
    "# <center> 5. Remove List Items </center>\n",
    "--- \n",
    "\n"
   ]
  },
  {
   "cell_type": "markdown",
   "id": "15f28fe4",
   "metadata": {},
   "source": [
    "## Remove Specified Item\n",
    "The remove() method removes the specified item."
   ]
  },
  {
   "cell_type": "code",
   "execution_count": 35,
   "id": "c7f890d0",
   "metadata": {},
   "outputs": [
    {
     "name": "stdout",
     "output_type": "stream",
     "text": [
      "['apple', 'cherry']\n"
     ]
    }
   ],
   "source": [
    "thislist = [\"apple\", \"banana\", \"cherry\"]\n",
    "thislist.remove(\"banana\")\n",
    "print(thislist)"
   ]
  },
  {
   "cell_type": "markdown",
   "id": "e5d0405e",
   "metadata": {},
   "source": [
    "## Remove Specified Index\n",
    "\n",
    "The pop() method removes the specified index."
   ]
  },
  {
   "cell_type": "code",
   "execution_count": 36,
   "id": "28178b4b",
   "metadata": {},
   "outputs": [
    {
     "name": "stdout",
     "output_type": "stream",
     "text": [
      "['apple', 'cherry']\n"
     ]
    }
   ],
   "source": [
    "thislist = [\"apple\", \"banana\", \"cherry\"]\n",
    "thislist.pop(1)\n",
    "print(thislist)"
   ]
  },
  {
   "cell_type": "markdown",
   "id": "ee20ee35",
   "metadata": {},
   "source": [
    "If you do not specify the index, the pop() method removes the last item."
   ]
  },
  {
   "cell_type": "code",
   "execution_count": 37,
   "id": "28ec8ee4",
   "metadata": {},
   "outputs": [
    {
     "name": "stdout",
     "output_type": "stream",
     "text": [
      "['apple', 'banana']\n"
     ]
    }
   ],
   "source": [
    "thislist = [\"apple\", \"banana\", \"cherry\"]\n",
    "thislist.pop()\n",
    "print(thislist)"
   ]
  },
  {
   "cell_type": "markdown",
   "id": "769ab9ec",
   "metadata": {},
   "source": [
    "The del keyword also removes the specified index:"
   ]
  },
  {
   "cell_type": "code",
   "execution_count": 40,
   "id": "620db445",
   "metadata": {},
   "outputs": [
    {
     "name": "stdout",
     "output_type": "stream",
     "text": [
      "['banana', 'cherry']\n"
     ]
    }
   ],
   "source": [
    "thislist = [\"apple\", \"banana\", \"cherry\"]\n",
    "del thislist[0]\n",
    "print(thislist)"
   ]
  },
  {
   "cell_type": "markdown",
   "id": "ff5ef36f",
   "metadata": {},
   "source": [
    "The del keyword can also delete the list completely.\n",
    "\n"
   ]
  },
  {
   "cell_type": "code",
   "execution_count": 41,
   "id": "ab07dd16",
   "metadata": {},
   "outputs": [],
   "source": [
    "thislist = [\"apple\", \"banana\", \"cherry\"]\n",
    "del thislist"
   ]
  },
  {
   "cell_type": "markdown",
   "id": "466eea86",
   "metadata": {},
   "source": [
    "## Clear the List\n",
    "The clear() method empties the list.\n",
    "\n",
    "The list still remains, but it has no content."
   ]
  },
  {
   "cell_type": "code",
   "execution_count": 42,
   "id": "7d95f185",
   "metadata": {},
   "outputs": [
    {
     "name": "stdout",
     "output_type": "stream",
     "text": [
      "[]\n"
     ]
    }
   ],
   "source": [
    "thislist = [\"apple\", \"banana\", \"cherry\"]\n",
    "thislist.clear()\n",
    "print(thislist)"
   ]
  },
  {
   "cell_type": "markdown",
   "id": "cd1aa7f1",
   "metadata": {},
   "source": [
    "# <center> 6. Loop Lists </center>\n",
    "--- \n",
    "\n"
   ]
  },
  {
   "cell_type": "markdown",
   "id": "8e65e9e5",
   "metadata": {},
   "source": [
    "## Loop Through a List\n",
    "You can loop through the list items by using a for loop:"
   ]
  },
  {
   "cell_type": "code",
   "execution_count": 43,
   "id": "2316dd52",
   "metadata": {},
   "outputs": [
    {
     "name": "stdout",
     "output_type": "stream",
     "text": [
      "apple\n",
      "banana\n",
      "cherry\n"
     ]
    }
   ],
   "source": [
    "thislist = [\"apple\", \"banana\", \"cherry\"]\n",
    "for x in thislist:\n",
    "  print(x)"
   ]
  },
  {
   "cell_type": "markdown",
   "id": "b075f2ac",
   "metadata": {},
   "source": [
    "## Loop Through the Index Numbers\n",
    "You can also loop through the list items by referring to their index number.\n",
    "\n",
    "Use the range() and len() functions to create a suitable iterable."
   ]
  },
  {
   "cell_type": "code",
   "execution_count": 44,
   "id": "11946950",
   "metadata": {},
   "outputs": [
    {
     "name": "stdout",
     "output_type": "stream",
     "text": [
      "apple\n",
      "banana\n",
      "cherry\n"
     ]
    }
   ],
   "source": [
    "thislist = [\"apple\", \"banana\", \"cherry\"]\n",
    "for i in range(len(thislist)):\n",
    "  print(thislist[i])"
   ]
  },
  {
   "cell_type": "markdown",
   "id": "3a8b6545",
   "metadata": {},
   "source": [
    "The iterable created in the example above is [0, 1, 2].\n",
    "\n"
   ]
  },
  {
   "cell_type": "markdown",
   "id": "2529d5bd",
   "metadata": {},
   "source": [
    "## Using a While Loop\n",
    "You can loop through the list items by using a while loop.\n",
    "\n",
    "Use the len() function to determine the length of the list, then start at 0 and loop your way through the list items by referring to their indexes.\n",
    "\n",
    "Remember to increase the index by 1 after each iteration."
   ]
  },
  {
   "cell_type": "code",
   "execution_count": 45,
   "id": "74b5c536",
   "metadata": {},
   "outputs": [
    {
     "name": "stdout",
     "output_type": "stream",
     "text": [
      "apple\n",
      "banana\n",
      "cherry\n"
     ]
    }
   ],
   "source": [
    "thislist = [\"apple\", \"banana\", \"cherry\"]\n",
    "i = 0\n",
    "while i < len(thislist):\n",
    "  print(thislist[i])\n",
    "  i = i + 1"
   ]
  },
  {
   "cell_type": "markdown",
   "id": "d4c9b824",
   "metadata": {},
   "source": [
    "## Looping Using List Comprehension\n",
    "List Comprehension offers the shortest syntax for looping through lists:"
   ]
  },
  {
   "cell_type": "code",
   "execution_count": 47,
   "id": "429b9535",
   "metadata": {},
   "outputs": [
    {
     "name": "stdout",
     "output_type": "stream",
     "text": [
      "apple\n",
      "banana\n",
      "cherry\n"
     ]
    },
    {
     "data": {
      "text/plain": [
       "[None, None, None]"
      ]
     },
     "execution_count": 47,
     "metadata": {},
     "output_type": "execute_result"
    }
   ],
   "source": [
    "thislist = [\"apple\", \"banana\", \"cherry\"]\n",
    "[print(x) for x in thislist]"
   ]
  },
  {
   "cell_type": "markdown",
   "id": "3b509550",
   "metadata": {},
   "source": [
    "# <center> 7. List Comprehension </center>\n",
    "--- \n"
   ]
  },
  {
   "cell_type": "markdown",
   "id": "681d0479",
   "metadata": {},
   "source": [
    "## List Comprehension\n",
    "List comprehension offers a shorter syntax when you want to create a new list based on the values of an existing list.\n",
    "\n",
    "Example:\n",
    "\n",
    "Based on a list of fruits, you want a new list, containing only the fruits with the letter \"a\" in the name.\n",
    "\n",
    "Without list comprehension you will have to write a for statement with a conditional test inside:"
   ]
  },
  {
   "cell_type": "code",
   "execution_count": 48,
   "id": "d071196b",
   "metadata": {},
   "outputs": [
    {
     "name": "stdout",
     "output_type": "stream",
     "text": [
      "['apple', 'banana', 'mango']\n"
     ]
    }
   ],
   "source": [
    "fruits = [\"apple\", \"banana\", \"cherry\", \"kiwi\", \"mango\"]\n",
    "newlist = []\n",
    "\n",
    "for x in fruits:\n",
    "  if \"a\" in x:\n",
    "    newlist.append(x)\n",
    "\n",
    "print(newlist)"
   ]
  },
  {
   "cell_type": "markdown",
   "id": "6587b046",
   "metadata": {},
   "source": [
    "With list comprehension you can do all that with only one line of code:\n",
    "\n"
   ]
  },
  {
   "cell_type": "code",
   "execution_count": 49,
   "id": "d797a7d5",
   "metadata": {},
   "outputs": [
    {
     "name": "stdout",
     "output_type": "stream",
     "text": [
      "['apple', 'banana', 'mango']\n"
     ]
    }
   ],
   "source": [
    "fruits = [\"apple\", \"banana\", \"cherry\", \"kiwi\", \"mango\"]\n",
    "\n",
    "newlist = [x for x in fruits if \"a\" in x]\n",
    "\n",
    "print(newlist)"
   ]
  },
  {
   "cell_type": "markdown",
   "id": "1a4349df",
   "metadata": {},
   "source": [
    "The Syntax"
   ]
  },
  {
   "cell_type": "code",
   "execution_count": null,
   "id": "d5022893",
   "metadata": {},
   "outputs": [],
   "source": [
    "newlist = [expression for item in iterable if condition == True]"
   ]
  },
  {
   "cell_type": "markdown",
   "id": "0853f56f",
   "metadata": {},
   "source": [
    "The return value is a new list, leaving the old list unchanged."
   ]
  },
  {
   "cell_type": "markdown",
   "id": "b3d945f7",
   "metadata": {},
   "source": [
    "## Condition\n",
    "The condition is like a filter that only accepts the items that valuate to True."
   ]
  },
  {
   "cell_type": "code",
   "execution_count": 54,
   "id": "9d04bae0",
   "metadata": {},
   "outputs": [],
   "source": [
    "#Only accept items that are not \"apple\":\n",
    "newlist = [x for x in fruits if x != \"apple\"]"
   ]
  },
  {
   "cell_type": "markdown",
   "id": "333e14e8",
   "metadata": {},
   "source": [
    "The condition if x != \"apple\"  will return True for all elements other than \"apple\", making the new list contain all fruits except \"apple\".\n",
    "\n",
    "The condition is optional and can be omitted:"
   ]
  },
  {
   "cell_type": "code",
   "execution_count": 56,
   "id": "dc84df8c",
   "metadata": {},
   "outputs": [],
   "source": [
    "#With no if statement:\n",
    "newlist = [x for x in fruits]"
   ]
  },
  {
   "cell_type": "markdown",
   "id": "dfab93bb",
   "metadata": {},
   "source": [
    "## Iterable\n",
    "The iterable can be any iterable object, like a list, tuple, set etc."
   ]
  },
  {
   "cell_type": "code",
   "execution_count": 58,
   "id": "cc52ddde",
   "metadata": {},
   "outputs": [],
   "source": [
    "#You can use the range() function to create an iterable:\n",
    "newlist = [x for x in range(10)]"
   ]
  },
  {
   "cell_type": "markdown",
   "id": "f8d58c7d",
   "metadata": {},
   "source": [
    "Same example, but with a condition:"
   ]
  },
  {
   "cell_type": "code",
   "execution_count": 59,
   "id": "c62f8dd9",
   "metadata": {},
   "outputs": [],
   "source": [
    "#Accept only numbers lower than 5:\n",
    "newlist = [x for x in range(10) if x < 5]"
   ]
  },
  {
   "cell_type": "markdown",
   "id": "1e32df3d",
   "metadata": {},
   "source": [
    "## Expression\n",
    "The expression is the current item in the iteration, but it is also the outcome, which you can manipulate before it ends up like a list item in the new list:"
   ]
  },
  {
   "cell_type": "code",
   "execution_count": 60,
   "id": "fe85c9aa",
   "metadata": {},
   "outputs": [],
   "source": [
    "#Set the values in the new list to upper case:\n",
    "newlist = [x.upper() for x in fruits]"
   ]
  },
  {
   "cell_type": "markdown",
   "id": "3b2e5c7a",
   "metadata": {},
   "source": [
    "You can set the outcome to whatever you like:"
   ]
  },
  {
   "cell_type": "code",
   "execution_count": 61,
   "id": "996c5068",
   "metadata": {},
   "outputs": [],
   "source": [
    "#Set all values in the new list to 'hello':\n",
    "newlist = ['hello' for x in fruits]"
   ]
  },
  {
   "cell_type": "markdown",
   "id": "1d2ccd21",
   "metadata": {},
   "source": [
    "The expression can also contain conditions, not like a filter, but as a way to manipulate the outcome:\n",
    "\n"
   ]
  },
  {
   "cell_type": "code",
   "execution_count": 62,
   "id": "3b377036",
   "metadata": {},
   "outputs": [],
   "source": [
    "#Return \"orange\" instead of \"banana\":\n",
    "newlist = [x if x != \"banana\" else \"orange\" for x in fruits]"
   ]
  },
  {
   "cell_type": "markdown",
   "id": "f8f79004",
   "metadata": {},
   "source": [
    "The expression in the example above says:\n",
    "\n",
    "\"Return the item if it is not banana, if it is banana return orange\""
   ]
  },
  {
   "cell_type": "markdown",
   "id": "587ff319",
   "metadata": {},
   "source": [
    "# <center> 8. Sort Lists </center>\n",
    "--- \n",
    "\n"
   ]
  },
  {
   "cell_type": "markdown",
   "id": "0fd8b0c8",
   "metadata": {},
   "source": [
    "## Sort List Alphanumerically\n",
    "List objects have a sort() method that will sort the list alphanumerically, ascending, by default:"
   ]
  },
  {
   "cell_type": "code",
   "execution_count": 65,
   "id": "4d43ea92",
   "metadata": {},
   "outputs": [
    {
     "name": "stdout",
     "output_type": "stream",
     "text": [
      "['banana', 'kiwi', 'mango', 'orange', 'pineapple']\n"
     ]
    }
   ],
   "source": [
    "#Sort the list alphabetically:\n",
    "thislist = [\"orange\", \"mango\", \"kiwi\", \"pineapple\", \"banana\"]\n",
    "thislist.sort()\n",
    "print(thislist)"
   ]
  },
  {
   "cell_type": "code",
   "execution_count": 66,
   "id": "b433e901",
   "metadata": {},
   "outputs": [
    {
     "name": "stdout",
     "output_type": "stream",
     "text": [
      "[23, 50, 65, 82, 100]\n"
     ]
    }
   ],
   "source": [
    "#Sort the list numerically:\n",
    "thislist = [100, 50, 65, 82, 23]\n",
    "thislist.sort()\n",
    "print(thislist)"
   ]
  },
  {
   "cell_type": "markdown",
   "id": "44c9bc7d",
   "metadata": {},
   "source": [
    "## Sort Descending\n",
    "To sort descending, use the keyword argument reverse = True:"
   ]
  },
  {
   "cell_type": "code",
   "execution_count": 67,
   "id": "d13ce8e4",
   "metadata": {},
   "outputs": [
    {
     "name": "stdout",
     "output_type": "stream",
     "text": [
      "['pineapple', 'orange', 'mango', 'kiwi', 'banana']\n"
     ]
    }
   ],
   "source": [
    "#Sort the list descending:\n",
    "thislist = [\"orange\", \"mango\", \"kiwi\", \"pineapple\", \"banana\"]\n",
    "thislist.sort(reverse = True)\n",
    "print(thislist)"
   ]
  },
  {
   "cell_type": "code",
   "execution_count": 68,
   "id": "f683f41f",
   "metadata": {},
   "outputs": [
    {
     "name": "stdout",
     "output_type": "stream",
     "text": [
      "[100, 82, 65, 50, 23]\n"
     ]
    }
   ],
   "source": [
    "#Sort the list descending:\n",
    "thislist = [100, 50, 65, 82, 23]\n",
    "thislist.sort(reverse = True)\n",
    "print(thislist)"
   ]
  },
  {
   "cell_type": "markdown",
   "id": "6aaf306d",
   "metadata": {},
   "source": [
    "## Customize Sort Function\n",
    "You can also customize your own function by using the keyword argument key = function.\n",
    "\n",
    "The function will return a number that will be used to sort the list (the lowest number first):"
   ]
  },
  {
   "cell_type": "code",
   "execution_count": 69,
   "id": "b9eef54a",
   "metadata": {},
   "outputs": [
    {
     "name": "stdout",
     "output_type": "stream",
     "text": [
      "[50, 65, 23, 82, 100]\n"
     ]
    }
   ],
   "source": [
    "#Sort the list based on how close the number is to 50:\n",
    "def myfunc(n):\n",
    "  return abs(n - 50)\n",
    "\n",
    "thislist = [100, 50, 65, 82, 23]\n",
    "thislist.sort(key = myfunc)\n",
    "print(thislist)"
   ]
  },
  {
   "cell_type": "markdown",
   "id": "c924666e",
   "metadata": {},
   "source": [
    "## Case Insensitive Sort\n",
    "By default the sort() method is case sensitive, resulting in all capital letters being sorted before lower case letters"
   ]
  },
  {
   "cell_type": "code",
   "execution_count": 70,
   "id": "7b2ed4d3",
   "metadata": {},
   "outputs": [
    {
     "name": "stdout",
     "output_type": "stream",
     "text": [
      "['Kiwi', 'Orange', 'banana', 'cherry']\n"
     ]
    }
   ],
   "source": [
    "#Case sensitive sorting can give an unexpected result:\n",
    "thislist = [\"banana\", \"Orange\", \"Kiwi\", \"cherry\"]\n",
    "thislist.sort()\n",
    "print(thislist)"
   ]
  },
  {
   "cell_type": "markdown",
   "id": "d391e260",
   "metadata": {},
   "source": [
    "Luckily we can use built-in functions as key functions when sorting a list.\n",
    "\n",
    "So if you want a case-insensitive sort function, use str.lower as a key function:"
   ]
  },
  {
   "cell_type": "code",
   "execution_count": 71,
   "id": "1de1ce75",
   "metadata": {},
   "outputs": [
    {
     "name": "stdout",
     "output_type": "stream",
     "text": [
      "['banana', 'cherry', 'Kiwi', 'Orange']\n"
     ]
    }
   ],
   "source": [
    "#Perform a case-insensitive sort of the list:\n",
    "thislist = [\"banana\", \"Orange\", \"Kiwi\", \"cherry\"]\n",
    "thislist.sort(key = str.lower)\n",
    "print(thislist)"
   ]
  },
  {
   "cell_type": "markdown",
   "id": "b26cadc6",
   "metadata": {},
   "source": [
    "## Reverse Order\n",
    "What if you want to reverse the order of a list, regardless of the alphabet?\n",
    "\n",
    "The reverse() method reverses the current sorting order of the elements."
   ]
  },
  {
   "cell_type": "code",
   "execution_count": 72,
   "id": "afd58d1b",
   "metadata": {},
   "outputs": [
    {
     "name": "stdout",
     "output_type": "stream",
     "text": [
      "['cherry', 'Kiwi', 'Orange', 'banana']\n"
     ]
    }
   ],
   "source": [
    "#Reverse the order of the list items:\n",
    "thislist = [\"banana\", \"Orange\", \"Kiwi\", \"cherry\"]\n",
    "thislist.reverse()\n",
    "print(thislist)"
   ]
  },
  {
   "cell_type": "markdown",
   "id": "1be87538",
   "metadata": {},
   "source": [
    "# <center> 9. Copy Lists </center>\n",
    "--- \n"
   ]
  },
  {
   "cell_type": "markdown",
   "id": "06731a59",
   "metadata": {},
   "source": [
    "## Copy a List\n",
    "You cannot copy a list simply by typing list2 = list1, because: list2 will only be a reference to list1, and changes made in list1 will automatically also be made in list2.\n",
    "\n",
    "There are ways to make a copy, one way is to use the built-in List method copy()."
   ]
  },
  {
   "cell_type": "code",
   "execution_count": 73,
   "id": "bcddfd75",
   "metadata": {},
   "outputs": [
    {
     "name": "stdout",
     "output_type": "stream",
     "text": [
      "['apple', 'banana', 'cherry']\n"
     ]
    }
   ],
   "source": [
    "#Make a copy of a list with the copy() method:\n",
    "thislist = [\"apple\", \"banana\", \"cherry\"]\n",
    "mylist = thislist.copy()\n",
    "print(mylist)"
   ]
  },
  {
   "cell_type": "markdown",
   "id": "0d5a6bed",
   "metadata": {},
   "source": [
    "Another way to make a copy is to use the built-in method list().\n",
    "\n"
   ]
  },
  {
   "cell_type": "code",
   "execution_count": 74,
   "id": "e8e58834",
   "metadata": {},
   "outputs": [
    {
     "name": "stdout",
     "output_type": "stream",
     "text": [
      "['apple', 'banana', 'cherry']\n"
     ]
    }
   ],
   "source": [
    "#Make a copy of a list with the list() method:\n",
    "thislist = [\"apple\", \"banana\", \"cherry\"]\n",
    "mylist = list(thislist)\n",
    "print(mylist)"
   ]
  },
  {
   "cell_type": "markdown",
   "id": "26d66062",
   "metadata": {},
   "source": [
    "\n",
    "# <center> 10. Join Lists </center>\n",
    "--- \n"
   ]
  },
  {
   "cell_type": "markdown",
   "id": "fd66c92a",
   "metadata": {},
   "source": [
    "## Join Two Lists\n",
    "There are several ways to join, or concatenate, two or more lists in Python.\n",
    "\n",
    "One of the easiest ways are by using the + operator."
   ]
  },
  {
   "cell_type": "code",
   "execution_count": 77,
   "id": "be3b6f74",
   "metadata": {},
   "outputs": [
    {
     "name": "stdout",
     "output_type": "stream",
     "text": [
      "['a', 'b', 'c', 1, 2, 3]\n"
     ]
    }
   ],
   "source": [
    "#Join two list:\n",
    "list1 = [\"a\", \"b\", \"c\"]\n",
    "list2 = [1, 2, 3]\n",
    "\n",
    "list3 = list1 + list2\n",
    "print(list3)"
   ]
  },
  {
   "cell_type": "markdown",
   "id": "188716ba",
   "metadata": {},
   "source": [
    "Another way to join two lists is by appending all the items from list2 into list1, one by one:\n",
    "\n"
   ]
  },
  {
   "cell_type": "code",
   "execution_count": 78,
   "id": "b5428b62",
   "metadata": {},
   "outputs": [
    {
     "name": "stdout",
     "output_type": "stream",
     "text": [
      "['a', 'b', 'c', 1, 2, 3]\n"
     ]
    }
   ],
   "source": [
    "#Append list2 into list1:\n",
    "list1 = [\"a\", \"b\" , \"c\"]\n",
    "list2 = [1, 2, 3]\n",
    "\n",
    "for x in list2:\n",
    "  list1.append(x)\n",
    "\n",
    "print(list1)"
   ]
  },
  {
   "cell_type": "markdown",
   "id": "62304697",
   "metadata": {},
   "source": [
    "Or you can use the extend() method, where the purpose is to add elements from one list to another list:"
   ]
  },
  {
   "cell_type": "code",
   "execution_count": 79,
   "id": "21dc3870",
   "metadata": {},
   "outputs": [
    {
     "name": "stdout",
     "output_type": "stream",
     "text": [
      "['a', 'b', 'c', 1, 2, 3]\n"
     ]
    }
   ],
   "source": [
    "#Use the extend() method to add list2 at the end of list1:\n",
    "list1 = [\"a\", \"b\" , \"c\"]\n",
    "list2 = [1, 2, 3]\n",
    "\n",
    "list1.extend(list2)\n",
    "print(list1)"
   ]
  },
  {
   "cell_type": "markdown",
   "id": "3ceafc34",
   "metadata": {},
   "source": [
    "\n",
    "# <center> 11. List Methods </center>\n",
    "--- \n"
   ]
  },
  {
   "cell_type": "markdown",
   "id": "645d55c0",
   "metadata": {},
   "source": [
    "## List Methods\n",
    "Python has a set of built-in methods that you can use on lists."
   ]
  },
  {
   "cell_type": "markdown",
   "id": "28acbabd",
   "metadata": {},
   "source": [
    "https://www.w3schools.com/python/python_lists_methods.asp"
   ]
  },
  {
   "cell_type": "markdown",
   "id": "6616dacf",
   "metadata": {},
   "source": [
    "\n",
    "# <center> Practice </center>\n",
    "--- \n"
   ]
  },
  {
   "cell_type": "code",
   "execution_count": null,
   "id": "8a5ff4cb",
   "metadata": {},
   "outputs": [],
   "source": []
  }
 ],
 "metadata": {
  "kernelspec": {
   "display_name": "Python 3 (ipykernel)",
   "language": "python",
   "name": "python3"
  },
  "language_info": {
   "codemirror_mode": {
    "name": "ipython",
    "version": 3
   },
   "file_extension": ".py",
   "mimetype": "text/x-python",
   "name": "python",
   "nbconvert_exporter": "python",
   "pygments_lexer": "ipython3",
   "version": "3.9.13"
  }
 },
 "nbformat": 4,
 "nbformat_minor": 5
}
